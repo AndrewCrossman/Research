{
  "nbformat": 4,
  "nbformat_minor": 0,
  "metadata": {
    "colab": {
      "name": "Find_CompProfile.ipynb",
      "provenance": [],
      "authorship_tag": "ABX9TyMVngtP3DvjJSGCQta7r+ef",
      "include_colab_link": true
    },
    "kernelspec": {
      "name": "python3",
      "display_name": "Python 3"
    },
    "language_info": {
      "name": "python"
    }
  },
  "cells": [
    {
      "cell_type": "markdown",
      "metadata": {
        "id": "view-in-github",
        "colab_type": "text"
      },
      "source": [
        "<a href=\"https://colab.research.google.com/github/AndrewCrossman/Research/blob/main/Find_CompProfile.ipynb\" target=\"_parent\"><img src=\"https://colab.research.google.com/assets/colab-badge.svg\" alt=\"Open In Colab\"/></a>"
      ]
    },
    {
      "cell_type": "markdown",
      "source": [
        "## Import Packages"
      ],
      "metadata": {
        "id": "YK1KEMnw9YOg"
      }
    },
    {
      "cell_type": "code",
      "execution_count": 1,
      "metadata": {
        "colab": {
          "base_uri": "https://localhost:8080/"
        },
        "id": "kIBbySQ29L9B",
        "outputId": "e56fb279-e33e-468b-ea36-668d623bb2e1"
      },
      "outputs": [
        {
          "output_type": "stream",
          "name": "stdout",
          "text": [
            "Populating the interactive namespace from numpy and matplotlib\n"
          ]
        },
        {
          "output_type": "stream",
          "name": "stderr",
          "text": [
            "/usr/local/lib/python3.7/dist-packages/IPython/core/magics/pylab.py:161: UserWarning: pylab import has clobbered these variables: ['plt']\n",
            "`%matplotlib` prevents importing * from pylab and numpy\n",
            "  \"\\n`%matplotlib` prevents importing * from pylab and numpy\"\n"
          ]
        }
      ],
      "source": [
        "import numpy as np\n",
        "import pandas as pd\n",
        "import scipy as sp\n",
        "from scipy import optimize\n",
        "from google.colab import files\n",
        "import matplotlib.pylab as plt\n",
        "%pylab inline"
      ]
    },
    {
      "cell_type": "markdown",
      "source": [
        "## Helper Functions and Values"
      ],
      "metadata": {
        "id": "4We3zQhq9csb"
      }
    },
    {
      "cell_type": "code",
      "source": [
        "numbin = 20"
      ],
      "metadata": {
        "id": "JRglLhMh9iVj"
      },
      "execution_count": null,
      "outputs": []
    },
    {
      "cell_type": "markdown",
      "source": [
        "## Extract Data and Name Variables"
      ],
      "metadata": {
        "id": "a_t0Mvog9o_e"
      }
    },
    {
      "cell_type": "code",
      "source": [
        "file = \"https://raw.githubusercontent.com/AndrewCrossman/Research/main/Tests/MC_Sphere5050_AuPd_onAu_r25_5000Cycles/5000.xrd\"\n",
        "plotTitle = r'Composition of Relaxed AuNi'\n",
        "savename = 'RelaxedAuPdAlloyXRDFit.png'"
      ],
      "metadata": {
        "id": "itf7rI7y9ojj"
      },
      "execution_count": null,
      "outputs": []
    },
    {
      "cell_type": "code",
      "source": [
        "data = pd.read_csv(file, skiprows=3)\n",
        "data = data.drop(data.columns[3:], axis=1)\n",
        "data[[\"atoms\", \"x\"]] = data[data.columns[0]].str.split(expand=True)\n",
        "data = data.drop(data.columns[0], axis=1)\n",
        "data = data.set_axis([\"y\", \"z\", \"atom\", \"x\"], axis=1, inplace=False)\n",
        "data[\"x\"] = data[\"x\"].astype(float)\n",
        "data[\"y\"] = data[\"y\"].astype(float)\n",
        "data[\"z\"] = data[\"z\"].astype(float)\n",
        "data[\"distance\"] = np.sqrt((data[\"x\"]*data[\"x\"] + data[\"y\"]*data[\"y\"] + data[\"z\"]*data[\"z\"])*(4.0789*4.0789))\n",
        "print(\"Max distance in angstroms \"+str(data[\"distance\"].max()))\n",
        "print(\"Min distance in angstroms \"+str(data[\"distance\"].min()))\n",
        "realBins = np.linspace(0,data[\"distance\"].max(),numbin)\n",
        "data[\"bin\"] = pd.cut(data[\"distance\"], bins=realBins, right=False, precision=2,include_lowest='True')\n",
        "\n",
        "data2 = data.groupby(\"bin\")[\"atom\"].value_counts(normalize=True).unstack()\n",
        "data2 = data2.fillna(0)"
      ],
      "metadata": {
        "id": "FM8pBsjj9_VN"
      },
      "execution_count": null,
      "outputs": []
    },
    {
      "cell_type": "markdown",
      "source": [
        "## Make Composition Profile Plot"
      ],
      "metadata": {
        "id": "EdBeKrCE-G9u"
      }
    },
    {
      "cell_type": "code",
      "source": [
        "fig, ax = plt.subplots(figsize=(7,5))\n",
        "for key in data2.keys():\n",
        "    data3 = data2[key].reset_index()\n",
        "    ax.scatter(range(len(data3['bin'])),data3[key])\n",
        "\n",
        "#ax = data.plot(figsize=(7,5), kind='bar')\n",
        "x = []\n",
        "for c in data3.bin:\n",
        "    x.append(str(c))\n",
        "\n",
        "ax.set_title(\"Composition of Relaxed AuNi\", fontsize=20)\n",
        "ax.set_ylabel(\"Fraction\", fontsize=16)\n",
        "ax.tick_params(axis='y', labelsize=12)\n",
        "ax.set_xticks(np.arange(len(x)))\n",
        "ax.set_xticklabels(x)\n",
        "ax.set_xlabel(\"Distance [A]\", fontsize=16)\n",
        "ax.tick_params(axis='x', labelsize=10, labelrotation = 70)\n",
        "ax.legend()\n",
        "ax.grid(True)\n",
        "plt.tight_layout()\n",
        "plt.savefig(savename)\n",
        "files.download(savename)"
      ],
      "metadata": {
        "id": "3-9-joMe-J0Z"
      },
      "execution_count": null,
      "outputs": []
    }
  ]
}
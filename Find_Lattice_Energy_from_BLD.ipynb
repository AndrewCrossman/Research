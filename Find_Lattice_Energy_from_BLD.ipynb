{
  "nbformat": 4,
  "nbformat_minor": 0,
  "metadata": {
    "colab": {
      "name": "Find_Lattice_Energy_from_BLD.ipynb",
      "provenance": [],
      "authorship_tag": "ABX9TyN0KfoLHMxhdvSo07L5CgP6",
      "include_colab_link": true
    },
    "kernelspec": {
      "name": "python3",
      "display_name": "Python 3"
    },
    "language_info": {
      "name": "python"
    }
  },
  "cells": [
    {
      "cell_type": "markdown",
      "metadata": {
        "id": "view-in-github",
        "colab_type": "text"
      },
      "source": [
        "<a href=\"https://colab.research.google.com/github/AndrewCrossman/Research/blob/main/Find_Lattice_Energy_from_BLD.ipynb\" target=\"_parent\"><img src=\"https://colab.research.google.com/assets/colab-badge.svg\" alt=\"Open In Colab\"/></a>"
      ]
    },
    {
      "cell_type": "code",
      "execution_count": null,
      "metadata": {
        "colab": {
          "base_uri": "https://localhost:8080/"
        },
        "id": "VOuKSK_oqgSj",
        "outputId": "841064e5-af02-4225-f125-7b325b744b75"
      },
      "outputs": [
        {
          "output_type": "stream",
          "name": "stdout",
          "text": [
            "Populating the interactive namespace from numpy and matplotlib\n"
          ]
        },
        {
          "output_type": "stream",
          "name": "stderr",
          "text": [
            "/usr/local/lib/python3.7/dist-packages/IPython/core/magics/pylab.py:161: UserWarning: pylab import has clobbered these variables: ['plt']\n",
            "`%matplotlib` prevents importing * from pylab and numpy\n",
            "  \"\\n`%matplotlib` prevents importing * from pylab and numpy\"\n"
          ]
        }
      ],
      "source": [
        "import numpy as np\n",
        "import pandas as pd\n",
        "import scipy as sp\n",
        "from google.colab import files\n",
        "import matplotlib.pylab as plt\n",
        "%pylab inline"
      ]
    },
    {
      "cell_type": "markdown",
      "source": [
        "## Helper Functions and Values"
      ],
      "metadata": {
        "id": "cpXogj5jfRcq"
      }
    },
    {
      "cell_type": "code",
      "source": [
        "# Dictionary that holds {nanosphere radius : atoms in sphere} given a Au Lattice Parameter\n",
        "AtomsPerSize = {10:249,20:1985, 25:3925, 30:6699,40:15711,50:30885,60:53117,70:84859,80:126341,90:180313,100:246861}"
      ],
      "metadata": {
        "id": "anuyd670fZut"
      },
      "execution_count": null,
      "outputs": []
    },
    {
      "cell_type": "markdown",
      "source": [
        "## This section finds the energy of a nanoparticle from its BLD"
      ],
      "metadata": {
        "id": "mTsPZn5SXQQM"
      }
    },
    {
      "cell_type": "code",
      "source": [
        "file = \"https://raw.githubusercontent.com/AndrewCrossman/Research/main/MC_Sphere100_Au_onAu_r30_1000Cycles/MC_Sphere100_Au_r30_BLDr25.bld\""
      ],
      "metadata": {
        "id": "b1i5ymmZqlrh"
      },
      "execution_count": null,
      "outputs": []
    },
    {
      "cell_type": "code",
      "source": [
        "data = pd.read_csv(file,header=None,delimiter=' ')\n",
        "data"
      ],
      "metadata": {
        "colab": {
          "base_uri": "https://localhost:8080/",
          "height": 424
        },
        "id": "hzz6Jn2LqmAR",
        "outputId": "4037160e-8990-4c95-c9fb-1f549015f697"
      },
      "execution_count": null,
      "outputs": [
        {
          "output_type": "execute_result",
          "data": {
            "text/plain": [
              "      0   1        2   3        4\n",
              "0   NaN NaN   1.0000 NaN      0.0\n",
              "1   NaN NaN   1.0300 NaN      0.0\n",
              "2   NaN NaN   1.0599 NaN      0.0\n",
              "3   NaN NaN   1.0899 NaN      0.0\n",
              "4   NaN NaN   1.1199 NaN      0.0\n",
              "..   ..  ..      ...  ..      ...\n",
              "796 NaN NaN  24.8500 NaN  27342.0\n",
              "797 NaN NaN  24.8800 NaN  30344.0\n",
              "798 NaN NaN  24.9100 NaN  34252.0\n",
              "799 NaN NaN  24.9400 NaN  38868.0\n",
              "800 NaN NaN  24.9700 NaN  43522.0\n",
              "\n",
              "[801 rows x 5 columns]"
            ],
            "text/html": [
              "\n",
              "  <div id=\"df-49542ec8-8fb9-4f30-8172-8932dd4cfe74\">\n",
              "    <div class=\"colab-df-container\">\n",
              "      <div>\n",
              "<style scoped>\n",
              "    .dataframe tbody tr th:only-of-type {\n",
              "        vertical-align: middle;\n",
              "    }\n",
              "\n",
              "    .dataframe tbody tr th {\n",
              "        vertical-align: top;\n",
              "    }\n",
              "\n",
              "    .dataframe thead th {\n",
              "        text-align: right;\n",
              "    }\n",
              "</style>\n",
              "<table border=\"1\" class=\"dataframe\">\n",
              "  <thead>\n",
              "    <tr style=\"text-align: right;\">\n",
              "      <th></th>\n",
              "      <th>0</th>\n",
              "      <th>1</th>\n",
              "      <th>2</th>\n",
              "      <th>3</th>\n",
              "      <th>4</th>\n",
              "    </tr>\n",
              "  </thead>\n",
              "  <tbody>\n",
              "    <tr>\n",
              "      <th>0</th>\n",
              "      <td>NaN</td>\n",
              "      <td>NaN</td>\n",
              "      <td>1.0000</td>\n",
              "      <td>NaN</td>\n",
              "      <td>0.0</td>\n",
              "    </tr>\n",
              "    <tr>\n",
              "      <th>1</th>\n",
              "      <td>NaN</td>\n",
              "      <td>NaN</td>\n",
              "      <td>1.0300</td>\n",
              "      <td>NaN</td>\n",
              "      <td>0.0</td>\n",
              "    </tr>\n",
              "    <tr>\n",
              "      <th>2</th>\n",
              "      <td>NaN</td>\n",
              "      <td>NaN</td>\n",
              "      <td>1.0599</td>\n",
              "      <td>NaN</td>\n",
              "      <td>0.0</td>\n",
              "    </tr>\n",
              "    <tr>\n",
              "      <th>3</th>\n",
              "      <td>NaN</td>\n",
              "      <td>NaN</td>\n",
              "      <td>1.0899</td>\n",
              "      <td>NaN</td>\n",
              "      <td>0.0</td>\n",
              "    </tr>\n",
              "    <tr>\n",
              "      <th>4</th>\n",
              "      <td>NaN</td>\n",
              "      <td>NaN</td>\n",
              "      <td>1.1199</td>\n",
              "      <td>NaN</td>\n",
              "      <td>0.0</td>\n",
              "    </tr>\n",
              "    <tr>\n",
              "      <th>...</th>\n",
              "      <td>...</td>\n",
              "      <td>...</td>\n",
              "      <td>...</td>\n",
              "      <td>...</td>\n",
              "      <td>...</td>\n",
              "    </tr>\n",
              "    <tr>\n",
              "      <th>796</th>\n",
              "      <td>NaN</td>\n",
              "      <td>NaN</td>\n",
              "      <td>24.8500</td>\n",
              "      <td>NaN</td>\n",
              "      <td>27342.0</td>\n",
              "    </tr>\n",
              "    <tr>\n",
              "      <th>797</th>\n",
              "      <td>NaN</td>\n",
              "      <td>NaN</td>\n",
              "      <td>24.8800</td>\n",
              "      <td>NaN</td>\n",
              "      <td>30344.0</td>\n",
              "    </tr>\n",
              "    <tr>\n",
              "      <th>798</th>\n",
              "      <td>NaN</td>\n",
              "      <td>NaN</td>\n",
              "      <td>24.9100</td>\n",
              "      <td>NaN</td>\n",
              "      <td>34252.0</td>\n",
              "    </tr>\n",
              "    <tr>\n",
              "      <th>799</th>\n",
              "      <td>NaN</td>\n",
              "      <td>NaN</td>\n",
              "      <td>24.9400</td>\n",
              "      <td>NaN</td>\n",
              "      <td>38868.0</td>\n",
              "    </tr>\n",
              "    <tr>\n",
              "      <th>800</th>\n",
              "      <td>NaN</td>\n",
              "      <td>NaN</td>\n",
              "      <td>24.9700</td>\n",
              "      <td>NaN</td>\n",
              "      <td>43522.0</td>\n",
              "    </tr>\n",
              "  </tbody>\n",
              "</table>\n",
              "<p>801 rows × 5 columns</p>\n",
              "</div>\n",
              "      <button class=\"colab-df-convert\" onclick=\"convertToInteractive('df-49542ec8-8fb9-4f30-8172-8932dd4cfe74')\"\n",
              "              title=\"Convert this dataframe to an interactive table.\"\n",
              "              style=\"display:none;\">\n",
              "        \n",
              "  <svg xmlns=\"http://www.w3.org/2000/svg\" height=\"24px\"viewBox=\"0 0 24 24\"\n",
              "       width=\"24px\">\n",
              "    <path d=\"M0 0h24v24H0V0z\" fill=\"none\"/>\n",
              "    <path d=\"M18.56 5.44l.94 2.06.94-2.06 2.06-.94-2.06-.94-.94-2.06-.94 2.06-2.06.94zm-11 1L8.5 8.5l.94-2.06 2.06-.94-2.06-.94L8.5 2.5l-.94 2.06-2.06.94zm10 10l.94 2.06.94-2.06 2.06-.94-2.06-.94-.94-2.06-.94 2.06-2.06.94z\"/><path d=\"M17.41 7.96l-1.37-1.37c-.4-.4-.92-.59-1.43-.59-.52 0-1.04.2-1.43.59L10.3 9.45l-7.72 7.72c-.78.78-.78 2.05 0 2.83L4 21.41c.39.39.9.59 1.41.59.51 0 1.02-.2 1.41-.59l7.78-7.78 2.81-2.81c.8-.78.8-2.07 0-2.86zM5.41 20L4 18.59l7.72-7.72 1.47 1.35L5.41 20z\"/>\n",
              "  </svg>\n",
              "      </button>\n",
              "      \n",
              "  <style>\n",
              "    .colab-df-container {\n",
              "      display:flex;\n",
              "      flex-wrap:wrap;\n",
              "      gap: 12px;\n",
              "    }\n",
              "\n",
              "    .colab-df-convert {\n",
              "      background-color: #E8F0FE;\n",
              "      border: none;\n",
              "      border-radius: 50%;\n",
              "      cursor: pointer;\n",
              "      display: none;\n",
              "      fill: #1967D2;\n",
              "      height: 32px;\n",
              "      padding: 0 0 0 0;\n",
              "      width: 32px;\n",
              "    }\n",
              "\n",
              "    .colab-df-convert:hover {\n",
              "      background-color: #E2EBFA;\n",
              "      box-shadow: 0px 1px 2px rgba(60, 64, 67, 0.3), 0px 1px 3px 1px rgba(60, 64, 67, 0.15);\n",
              "      fill: #174EA6;\n",
              "    }\n",
              "\n",
              "    [theme=dark] .colab-df-convert {\n",
              "      background-color: #3B4455;\n",
              "      fill: #D2E3FC;\n",
              "    }\n",
              "\n",
              "    [theme=dark] .colab-df-convert:hover {\n",
              "      background-color: #434B5C;\n",
              "      box-shadow: 0px 1px 3px 1px rgba(0, 0, 0, 0.15);\n",
              "      filter: drop-shadow(0px 1px 2px rgba(0, 0, 0, 0.3));\n",
              "      fill: #FFFFFF;\n",
              "    }\n",
              "  </style>\n",
              "\n",
              "      <script>\n",
              "        const buttonEl =\n",
              "          document.querySelector('#df-49542ec8-8fb9-4f30-8172-8932dd4cfe74 button.colab-df-convert');\n",
              "        buttonEl.style.display =\n",
              "          google.colab.kernel.accessAllowed ? 'block' : 'none';\n",
              "\n",
              "        async function convertToInteractive(key) {\n",
              "          const element = document.querySelector('#df-49542ec8-8fb9-4f30-8172-8932dd4cfe74');\n",
              "          const dataTable =\n",
              "            await google.colab.kernel.invokeFunction('convertToInteractive',\n",
              "                                                     [key], {});\n",
              "          if (!dataTable) return;\n",
              "\n",
              "          const docLinkHtml = 'Like what you see? Visit the ' +\n",
              "            '<a target=\"_blank\" href=https://colab.research.google.com/notebooks/data_table.ipynb>data table notebook</a>'\n",
              "            + ' to learn more about interactive tables.';\n",
              "          element.innerHTML = '';\n",
              "          dataTable['output_type'] = 'display_data';\n",
              "          await google.colab.output.renderOutput(dataTable, element);\n",
              "          const docLink = document.createElement('div');\n",
              "          docLink.innerHTML = docLinkHtml;\n",
              "          element.appendChild(docLink);\n",
              "        }\n",
              "      </script>\n",
              "    </div>\n",
              "  </div>\n",
              "  "
            ]
          },
          "metadata": {},
          "execution_count": 80
        }
      ]
    },
    {
      "cell_type": "code",
      "source": [
        "data.iloc[:,2]\n",
        "data.iloc[:,4]"
      ],
      "metadata": {
        "colab": {
          "base_uri": "https://localhost:8080/"
        },
        "id": "LI98ehf_6B61",
        "outputId": "fd37f570-fb83-4b52-9ff9-696eb41bc520"
      },
      "execution_count": null,
      "outputs": [
        {
          "output_type": "execute_result",
          "data": {
            "text/plain": [
              "0          0.0\n",
              "1          0.0\n",
              "2          0.0\n",
              "3          0.0\n",
              "4          0.0\n",
              "        ...   \n",
              "796    27342.0\n",
              "797    30344.0\n",
              "798    34252.0\n",
              "799    38868.0\n",
              "800    43522.0\n",
              "Name: 4, Length: 801, dtype: float64"
            ]
          },
          "metadata": {},
          "execution_count": 81
        }
      ]
    },
    {
      "cell_type": "code",
      "source": [
        "Energy = 0\n",
        "E = 5.29/(6.0221408*10**23)*2.611*10**22    # kcal/mole converted to eV/atom\n",
        "r0 = 2.951      # angstroms\n",
        "A = E*r0**12    # E*r0^12 in (kcal * angstrom^12) per mole\n",
        "B = 2*E*r0**6   #6987    # 2*E*r0^6 in (kcal * angstrom^6) per mole\n",
        "lp = 4.078900 # lattice parameter\n",
        "\n",
        "for i in np.arange(len(data.iloc[:,2])):\n",
        "  dist = data.iloc[:,2][i]\n",
        "  d3 = dist*dist*dist\n",
        "  d6 = d3*d3\n",
        "  d12= d6*d6\n",
        "  Energy = Energy + (A/d12 - B/d6)*data.iloc[:,4][i]\n",
        "Energy = Energy/2"
      ],
      "metadata": {
        "id": "Mmz2ozt2qmNP"
      },
      "execution_count": null,
      "outputs": []
    },
    {
      "cell_type": "code",
      "source": [
        "Energy/6699"
      ],
      "metadata": {
        "colab": {
          "base_uri": "https://localhost:8080/"
        },
        "id": "FDf6ZIH4SNef",
        "outputId": "870ed255-5a99-4dd0-c797-143449cfcec7"
      },
      "execution_count": null,
      "outputs": [
        {
          "output_type": "execute_result",
          "data": {
            "text/plain": [
              "-1.7027095039725435"
            ]
          },
          "metadata": {},
          "execution_count": 83
        }
      ]
    },
    {
      "cell_type": "markdown",
      "source": [
        "## Energy per Atom vs Nanosphere Size (BLD interaction distance of 13 Å)"
      ],
      "metadata": {
        "id": "TJmfQpJNW83S"
      }
    },
    {
      "cell_type": "code",
      "source": [
        "# Lennard-Jones Energy of lattices as a function of the radius of the sphere\n",
        "# with the BLD reaching out to 13 angstroms\n",
        "sizes = [10,20,30,40,50,60,70,80,90,100]\n",
        "atoms = [249,1985,6699,15711,30885,53117,84859,126341,180313,246861]\n",
        "energies = [-1.3637823440784378,-1.610121350907847,-1.6956711165798894,-1.7373922221764095,-1.7635292116815366,\n",
        "            -1.7832508724365899,-1.8109058637491857,-1.8105379755074056,-1.8196450789909768,\n",
        "            -1.8273659727222047]\n",
        "# Lennard-Jones Energy of lattices as a function of the radius of the sphere\n",
        "# with the BLD reaching out to 25 angstroms\n",
        "sizes25 = [100]\n",
        "atoms25 = [246861]\n",
        "energies25 = [-1.839502671288224]"
      ],
      "metadata": {
        "id": "057M7ptIbVVR"
      },
      "execution_count": null,
      "outputs": []
    },
    {
      "cell_type": "code",
      "source": [
        "fig, ax = plt.subplots(figsize=(9,6))\n",
        "ax.scatter(sizes,energies, color='black', label=r'$13\\AA$'+' Interaction Radius')\n",
        "ax.scatter(sizes25,energies25, color='red', label=r'$25\\AA$'+' Interaction Radius')\n",
        "ax.set_title(r'Energy Per Atom vs Particle Radius', fontsize=20, fontweight='bold')\n",
        "ax.set_xlabel(r'Particle Pre-Relaxation Radius [$\\AA$]', fontsize=20, fontweight='bold')\n",
        "ax.set_ylabel(r'Energy [eV/atom]', fontsize=20, fontweight='bold')\n",
        "ax.legend(fontsize=18)\n",
        "ax.grid()\n",
        "plt.tight_layout()\n",
        "plt.savefig('EnergyPerAtom.png')\n",
        "files.download('EnergyPerAtom.png')"
      ],
      "metadata": {
        "id": "rip4G7lJeRfa",
        "colab": {
          "base_uri": "https://localhost:8080/",
          "height": 441
        },
        "outputId": "488bbdba-cfc6-45e5-a584-6b950fae5f8e"
      },
      "execution_count": null,
      "outputs": [
        {
          "output_type": "display_data",
          "data": {
            "text/plain": [
              "<IPython.core.display.Javascript object>"
            ],
            "application/javascript": [
              "\n",
              "    async function download(id, filename, size) {\n",
              "      if (!google.colab.kernel.accessAllowed) {\n",
              "        return;\n",
              "      }\n",
              "      const div = document.createElement('div');\n",
              "      const label = document.createElement('label');\n",
              "      label.textContent = `Downloading \"${filename}\": `;\n",
              "      div.appendChild(label);\n",
              "      const progress = document.createElement('progress');\n",
              "      progress.max = size;\n",
              "      div.appendChild(progress);\n",
              "      document.body.appendChild(div);\n",
              "\n",
              "      const buffers = [];\n",
              "      let downloaded = 0;\n",
              "\n",
              "      const channel = await google.colab.kernel.comms.open(id);\n",
              "      // Send a message to notify the kernel that we're ready.\n",
              "      channel.send({})\n",
              "\n",
              "      for await (const message of channel.messages) {\n",
              "        // Send a message to notify the kernel that we're ready.\n",
              "        channel.send({})\n",
              "        if (message.buffers) {\n",
              "          for (const buffer of message.buffers) {\n",
              "            buffers.push(buffer);\n",
              "            downloaded += buffer.byteLength;\n",
              "            progress.value = downloaded;\n",
              "          }\n",
              "        }\n",
              "      }\n",
              "      const blob = new Blob(buffers, {type: 'application/binary'});\n",
              "      const a = document.createElement('a');\n",
              "      a.href = window.URL.createObjectURL(blob);\n",
              "      a.download = filename;\n",
              "      div.appendChild(a);\n",
              "      a.click();\n",
              "      div.remove();\n",
              "    }\n",
              "  "
            ]
          },
          "metadata": {}
        },
        {
          "output_type": "display_data",
          "data": {
            "text/plain": [
              "<IPython.core.display.Javascript object>"
            ],
            "application/javascript": [
              "download(\"download_58d6cc70-f00f-429e-9e95-4306314140c1\", \"EnergyPerAtom.png\", 29598)"
            ]
          },
          "metadata": {}
        },
        {
          "output_type": "display_data",
          "data": {
            "text/plain": [
              "<Figure size 648x432 with 1 Axes>"
            ],
            "image/png": "[encoded data removed]"
          },
          "metadata": {
            "needs_background": "light"
          }
        }
      ]
    },
    {
      "cell_type": "code",
      "source": [
        "atoms = [1/(x**(1/3)) for x in atoms]\n",
        "atoms25 = [1/(x**(1/3)) for x in atoms25]"
      ],
      "metadata": {
        "id": "3os_zbTZMnSQ"
      },
      "execution_count": null,
      "outputs": []
    },
    {
      "cell_type": "code",
      "source": [
        "fig, ax = plt.subplots(figsize=(9,6))\n",
        "ax.scatter(atoms,energies, color='black', label=r'$13\\AA$'+' Interaction Radius')\n",
        "ax.scatter(atoms25,energies25, color='red', label=r'$25\\AA$'+' Interaction Radius')\n",
        "ax.set_title(r'Energy Per Atom vs Particle Radius', fontsize=20, fontweight='bold')\n",
        "ax.set_xlabel(r'$1/atoms^{1/3}$', fontsize=20, fontweight='bold')\n",
        "ax.set_ylabel(r'Energy [eV/atom]', fontsize=20, fontweight='bold')\n",
        "ax.legend(fontsize=18)\n",
        "ax.grid()\n",
        "plt.tight_layout()\n",
        "plt.savefig('EnergyPerAtomv2.png')\n",
        "files.download('EnergyPerAtomv2.png')"
      ],
      "metadata": {
        "colab": {
          "base_uri": "https://localhost:8080/",
          "height": 441
        },
        "id": "7IJvJEeXMgi_",
        "outputId": "bb474886-0ff0-46c8-9e75-15226bad83bc"
      },
      "execution_count": null,
      "outputs": [
        {
          "output_type": "display_data",
          "data": {
            "text/plain": [
              "<IPython.core.display.Javascript object>"
            ],
            "application/javascript": [
              "\n",
              "    async function download(id, filename, size) {\n",
              "      if (!google.colab.kernel.accessAllowed) {\n",
              "        return;\n",
              "      }\n",
              "      const div = document.createElement('div');\n",
              "      const label = document.createElement('label');\n",
              "      label.textContent = `Downloading \"${filename}\": `;\n",
              "      div.appendChild(label);\n",
              "      const progress = document.createElement('progress');\n",
              "      progress.max = size;\n",
              "      div.appendChild(progress);\n",
              "      document.body.appendChild(div);\n",
              "\n",
              "      const buffers = [];\n",
              "      let downloaded = 0;\n",
              "\n",
              "      const channel = await google.colab.kernel.comms.open(id);\n",
              "      // Send a message to notify the kernel that we're ready.\n",
              "      channel.send({})\n",
              "\n",
              "      for await (const message of channel.messages) {\n",
              "        // Send a message to notify the kernel that we're ready.\n",
              "        channel.send({})\n",
              "        if (message.buffers) {\n",
              "          for (const buffer of message.buffers) {\n",
              "            buffers.push(buffer);\n",
              "            downloaded += buffer.byteLength;\n",
              "            progress.value = downloaded;\n",
              "          }\n",
              "        }\n",
              "      }\n",
              "      const blob = new Blob(buffers, {type: 'application/binary'});\n",
              "      const a = document.createElement('a');\n",
              "      a.href = window.URL.createObjectURL(blob);\n",
              "      a.download = filename;\n",
              "      div.appendChild(a);\n",
              "      a.click();\n",
              "      div.remove();\n",
              "    }\n",
              "  "
            ]
          },
          "metadata": {}
        },
        {
          "output_type": "display_data",
          "data": {
            "text/plain": [
              "<IPython.core.display.Javascript object>"
            ],
            "application/javascript": [
              "download(\"download_0dee9463-8c5f-4af7-a2b9-0494b6d19b5e\", \"EnergyPerAtomv2.png\", 28538)"
            ]
          },
          "metadata": {}
        },
        {
          "output_type": "display_data",
          "data": {
            "text/plain": [
              "<Figure size 648x432 with 1 Axes>"
            ],
            "image/png": "[encoded data removed]"
          },
          "metadata": {
            "needs_background": "light"
          }
        }
      ]
    },
    {
      "cell_type": "markdown",
      "source": [
        ""
      ],
      "metadata": {
        "id": "XUxX6EBjXaCo"
      }
    },
    {
      "cell_type": "markdown",
      "source": [
        "## Energy per Atom vs BLD Interaction Distance for 30Å and 40Å radius sphere"
      ],
      "metadata": {
        "id": "HY5W_a2YXbRk"
      }
    },
    {
      "cell_type": "code",
      "source": [
        "interaction_distance = [5,10,15,20,25]\n",
        "energiesr40 = [-1.4459350055851707, -1.7208837425672021, -1.7409963963173123, -1.7448910563251787, -1.7454857044705943]\n",
        "energiesr30 = [-1.4163016043906735, -1.6805702445350428, -1.698971110615917, -1.7021117499758796,-1.7027095039725435]"
      ],
      "metadata": {
        "id": "Ar3IswhfXlm0"
      },
      "execution_count": null,
      "outputs": []
    },
    {
      "cell_type": "code",
      "source": [
        "fig, ax = plt.subplots(figsize=(9,6))\n",
        "ax.scatter(interaction_distance,energiesr30, color='red', label=r'$r30\\AA$')\n",
        "ax.scatter(interaction_distance,energiesr40, color='black', label=r'$r40\\AA$')\n",
        "ax.set_title(r'Energy Per Atom vs BLD Interaction Radius (1000MC)', fontsize=20, fontweight='bold')\n",
        "ax.set_xlabel(\"BLD Interaction Radius\"+r'$[\\AA]$', fontsize=20, fontweight='bold')\n",
        "ax.set_ylabel(r'Energy [eV/atom]', fontsize=20, fontweight='bold')\n",
        "ax.legend(fontsize=18)\n",
        "ax.grid()\n",
        "plt.tight_layout()\n",
        "plt.savefig('EnergyPerAtomVBLD.png')\n",
        "files.download('EnergyPerAtomVBLD.png')"
      ],
      "metadata": {
        "colab": {
          "base_uri": "https://localhost:8080/",
          "height": 441
        },
        "id": "-Y-_2C5jc5WX",
        "outputId": "41eccb78-b605-4566-eda4-51bb92d8967f"
      },
      "execution_count": null,
      "outputs": [
        {
          "output_type": "display_data",
          "data": {
            "text/plain": [
              "<IPython.core.display.Javascript object>"
            ],
            "application/javascript": [
              "\n",
              "    async function download(id, filename, size) {\n",
              "      if (!google.colab.kernel.accessAllowed) {\n",
              "        return;\n",
              "      }\n",
              "      const div = document.createElement('div');\n",
              "      const label = document.createElement('label');\n",
              "      label.textContent = `Downloading \"${filename}\": `;\n",
              "      div.appendChild(label);\n",
              "      const progress = document.createElement('progress');\n",
              "      progress.max = size;\n",
              "      div.appendChild(progress);\n",
              "      document.body.appendChild(div);\n",
              "\n",
              "      const buffers = [];\n",
              "      let downloaded = 0;\n",
              "\n",
              "      const channel = await google.colab.kernel.comms.open(id);\n",
              "      // Send a message to notify the kernel that we're ready.\n",
              "      channel.send({})\n",
              "\n",
              "      for await (const message of channel.messages) {\n",
              "        // Send a message to notify the kernel that we're ready.\n",
              "        channel.send({})\n",
              "        if (message.buffers) {\n",
              "          for (const buffer of message.buffers) {\n",
              "            buffers.push(buffer);\n",
              "            downloaded += buffer.byteLength;\n",
              "            progress.value = downloaded;\n",
              "          }\n",
              "        }\n",
              "      }\n",
              "      const blob = new Blob(buffers, {type: 'application/binary'});\n",
              "      const a = document.createElement('a');\n",
              "      a.href = window.URL.createObjectURL(blob);\n",
              "      a.download = filename;\n",
              "      div.appendChild(a);\n",
              "      a.click();\n",
              "      div.remove();\n",
              "    }\n",
              "  "
            ]
          },
          "metadata": {}
        },
        {
          "output_type": "display_data",
          "data": {
            "text/plain": [
              "<IPython.core.display.Javascript object>"
            ],
            "application/javascript": [
              "download(\"download_806514eb-2ada-47c7-ad61-7579243c35c2\", \"EnergyPerAtomVBLD.png\", 29925)"
            ]
          },
          "metadata": {}
        },
        {
          "output_type": "display_data",
          "data": {
            "text/plain": [
              "<Figure size 648x432 with 1 Axes>"
            ],
            "image/png": "[encoded data removed]"
          },
          "metadata": {
            "needs_background": "light"
          }
        }
      ]
    },
    {
      "cell_type": "markdown",
      "source": [
        "## Bimetallic Energy per Atom from BLDs\n"
      ],
      "metadata": {
        "id": "Ltoh3lLRbIsU"
      }
    },
    {
      "cell_type": "markdown",
      "source": [
        "Find the energy per atom for a bimetallic structure from its 3 BLD files"
      ],
      "metadata": {
        "id": "Av08OgOYbYuh"
      }
    },
    {
      "cell_type": "code",
      "source": [
        "file1 = \"https://raw.githubusercontent.com/AndrewCrossman/Research/main/Tests/MC_Coreshell5050_NiAu_onAu_r25_2000Cycles/2000_AuAu.bld\"\n",
        "file2 = \"https://raw.githubusercontent.com/AndrewCrossman/Research/main/Tests/MC_Coreshell5050_NiAu_onAu_r25_2000Cycles/2000_AuNi.bld\"\n",
        "file3 = \"https://raw.githubusercontent.com/AndrewCrossman/Research/main/Tests/MC_Coreshell5050_NiAu_onAu_r25_2000Cycles/2000_NiNi.bld\""
      ],
      "metadata": {
        "id": "TLQQbM3JbQO_"
      },
      "execution_count": null,
      "outputs": []
    },
    {
      "cell_type": "code",
      "source": [
        "data1 = pd.read_csv(file1,header=None,delimiter=' ')\n",
        "data2 = pd.read_csv(file2,header=None,delimiter=' ')\n",
        "data3 = pd.read_csv(file3,header=None,delimiter=' ')"
      ],
      "metadata": {
        "id": "sTtrmY3qbQuj"
      },
      "execution_count": null,
      "outputs": []
    },
    {
      "cell_type": "code",
      "source": [
        "Energy_1 = 0\n",
        "Energy_2 = 0\n",
        "Energy_3 = 0\n",
        "lp = 4.078900 # lattice parameter\n",
        "# Au-Au interactions\n",
        "E_1 = 5.29/(6.0221408*10**23)*2.611*10**22    # kcal/mole converted to eV/atom\n",
        "r0_1 = 2.951                        # angstroms\n",
        "A_1 = E_1*r0_1**12                  # E*r0^12 in (kcal * angstrom^12) per mole\n",
        "B_1 = 2*E_1*r0_1**6                 # 2*E*r0^6 in (kcal * angstrom^6) per mole\n",
        "# Ni-Ni interactions\n",
        "E_2 = 5.65/(6.0221408*10**23)*2.611*10**22    # kcal/mole converted to eV/atom\n",
        "r0_2 = 2.552                        # angstroms\n",
        "A_2 = E_2*r0_2**12                  # E*r0^12 in (kcal * angstrom^12) per mole\n",
        "B_2 = 2*E_2*r0_2**6                 # 2*E*r0^6 in (kcal * angstrom^6) per mole\n",
        "# Pd-Pd interactions\n",
        "E_2 = 6.15/(6.0221408*10**23)*2.611*10**22    # kcal/mole converted to eV/atom\n",
        "r0_2 = 2.819                        # angstroms\n",
        "A_2 = E_2*r0_2**12                  # E*r0^12 in (kcal * angstrom^12) per mole\n",
        "B_2 = 2*E_2*r0_2**6                 # 2*E*r0^6 in (kcal * angstrom^6) per mole\n",
        "# Au-Ni interactions\n",
        "E_3 = 5.47/(6.0221408*10**23)*2.611*10**22    # kcal/mole converted to eV/atom\n",
        "r0_3 = 2.751                        # angstroms\n",
        "A_3 = E_3*r0_3**12                  # E*r0^12 in (kcal * angstrom^12) per mole\n",
        "B_3 = 2*E_3*r0_3**6                 # 2*E*r0^6 in (kcal * angstrom^6) per mole\n",
        "# Au-Pd interactions\n",
        "E_3 = 5.72/(6.0221408*10**23)*2.611*10**22    # kcal/mole converted to eV/atom\n",
        "r0_3 = 2.885                        # angstroms\n",
        "A_3 = E_2*r0_2**12                  # E*r0^12 in (kcal * angstrom^12) per mole\n",
        "B_3 = 2*E_2*r0_2**6                 # 2*E*r0^6 in (kcal * angstrom^6) per mole\n",
        "\n",
        "for i in np.arange(len(data1.iloc[:,2])):\n",
        "  # BLD file 1 energy Summation\n",
        "  dist1 = data1.iloc[:,2][i]\n",
        "  d3_1 = dist1*dist1*dist1\n",
        "  d6_1 = d3_1*d3_1\n",
        "  d12_1= d6_1*d6_1\n",
        "  Energy_1 = Energy_1 + (A_1/d12_1 - B_1/d6_1)*data1.iloc[:,4][i]\n",
        "  # BLD file 2 energy Summation\n",
        "  dist2 = data2.iloc[:,2][i]\n",
        "  d3_2 = dist2*dist2*dist2\n",
        "  d6_2 = d3_2*d3_2\n",
        "  d12_2= d6_2*d6_2\n",
        "  Energy_2 = Energy_2 + (A_2/d12_2 - B_2/d6_2)*data2.iloc[:,4][i]\n",
        "  # BLD file 3 energy Summation\n",
        "  dist3 = data3.iloc[:,2][i]\n",
        "  d3_3 = dist3*dist3*dist3\n",
        "  d6_3 = d3_3*d3_3\n",
        "  d12_3= d6_3*d6_3\n",
        "  Energy_3 = Energy_3 + (A_3/d12_3 - B_3/d6_3)*data3.iloc[:,4][i]\n",
        "\n",
        "Energy_1 = Energy_1/2\n",
        "Energy_2 = Energy_2/2\n",
        "Energy_3 = Energy_3/2"
      ],
      "metadata": {
        "id": "Fl_6isgCbiVj"
      },
      "execution_count": null,
      "outputs": []
    },
    {
      "cell_type": "code",
      "source": [
        "Total_Energy = (Energy_1 + Energy_2 + Energy_3)/AtomsPerSize[25]\n",
        "Total_Energy"
      ],
      "metadata": {
        "id": "9yzAaPC6e2Ik",
        "outputId": "64d0ffb3-c792-42ac-9f39-f42749e9e404",
        "colab": {
          "base_uri": "https://localhost:8080/"
        }
      },
      "execution_count": null,
      "outputs": [
        {
          "output_type": "execute_result",
          "data": {
            "text/plain": [
              "-1.20084777482951"
            ]
          },
          "metadata": {},
          "execution_count": 38
        }
      ]
    },
    {
      "cell_type": "code",
      "source": [
        "ParticleType = [\"AuPd5050Sphere\",\"PdAu5050CoreShell\",\"AuPd5050CoreShell\",\"AuNi5050Sphere\",\"PdAu5050CoreShell\",\"AuPd5050CoreShell\", 'AuNi5050CoreShell', 'NiAu5050CoreShell']\n",
        "energies = [-1.3642571147219362,-1.6835468184302902,-1.642410778866962,-1.276278288457203,-1.6835468184302902,-1.642410778866962,-1.3690416419602451,-1.20084777482951]\n",
        "ParticleTypeEnergy = {'AuPd5050Sphere':-1.3642571147219362,'AuNi5050Sphere':-1.276278288457203,'PdAu5050CoreShell':-1.6835468184302902,'AuPd5050CoreShell':-1.642410778866962,\n",
        "                      'AuNi5050CoreShell':-1.3690416419602451, 'NiAu5050CoreShell':-1.20084777482951}"
      ],
      "metadata": {
        "id": "hA5WZ8Zhg2UC"
      },
      "execution_count": null,
      "outputs": []
    },
    {
      "cell_type": "code",
      "source": [
        "fig, ax = plt.subplots(figsize=(9,6))\n",
        "#ax.scatter(ParticleType,energies)\n",
        "ax.bar(ParticleType,energies)\n",
        "ax.set_title(r'Energy Per Atom vs Relaxed Particle Type: R=25', fontsize=20, fontweight='bold')\n",
        "ax.set_xlabel(r'Particle Type', fontsize=20, fontweight='bold')\n",
        "ax.set_ylabel(r'Energy [eV/atom]', fontsize=20, fontweight='bold')\n",
        "ax.tick_params(axis='x',labelsize=10, labelrotation=70)\n",
        "#ax.legend(fontsize=18)\n",
        "#ax.grid()\n",
        "plt.tight_layout()\n",
        "plt.savefig('EnergyPerAtomVParticleType.png')\n",
        "files.download('EnergyPerAtomVParticleType.png')"
      ],
      "metadata": {
        "id": "IgA4V0nxgkab",
        "outputId": "731d490c-9ad7-414d-8057-a15e63ae9e67",
        "colab": {
          "base_uri": "https://localhost:8080/",
          "height": 441
        }
      },
      "execution_count": null,
      "outputs": [
        {
          "output_type": "display_data",
          "data": {
            "text/plain": [
              "<IPython.core.display.Javascript object>"
            ],
            "application/javascript": [
              "\n",
              "    async function download(id, filename, size) {\n",
              "      if (!google.colab.kernel.accessAllowed) {\n",
              "        return;\n",
              "      }\n",
              "      const div = document.createElement('div');\n",
              "      const label = document.createElement('label');\n",
              "      label.textContent = `Downloading \"${filename}\": `;\n",
              "      div.appendChild(label);\n",
              "      const progress = document.createElement('progress');\n",
              "      progress.max = size;\n",
              "      div.appendChild(progress);\n",
              "      document.body.appendChild(div);\n",
              "\n",
              "      const buffers = [];\n",
              "      let downloaded = 0;\n",
              "\n",
              "      const channel = await google.colab.kernel.comms.open(id);\n",
              "      // Send a message to notify the kernel that we're ready.\n",
              "      channel.send({})\n",
              "\n",
              "      for await (const message of channel.messages) {\n",
              "        // Send a message to notify the kernel that we're ready.\n",
              "        channel.send({})\n",
              "        if (message.buffers) {\n",
              "          for (const buffer of message.buffers) {\n",
              "            buffers.push(buffer);\n",
              "            downloaded += buffer.byteLength;\n",
              "            progress.value = downloaded;\n",
              "          }\n",
              "        }\n",
              "      }\n",
              "      const blob = new Blob(buffers, {type: 'application/binary'});\n",
              "      const a = document.createElement('a');\n",
              "      a.href = window.URL.createObjectURL(blob);\n",
              "      a.download = filename;\n",
              "      div.appendChild(a);\n",
              "      a.click();\n",
              "      div.remove();\n",
              "    }\n",
              "  "
            ]
          },
          "metadata": {}
        },
        {
          "output_type": "display_data",
          "data": {
            "text/plain": [
              "<IPython.core.display.Javascript object>"
            ],
            "application/javascript": [
              "download(\"download_1b028ae3-a08b-4d10-8336-907152be0316\", \"EnergyPerAtomVParticleType.png\", 34118)"
            ]
          },
          "metadata": {}
        },
        {
          "output_type": "display_data",
          "data": {
            "text/plain": [
              "<Figure size 648x432 with 1 Axes>"
            ],
            "image/png": "[encoded data removed]"
          },
          "metadata": {
            "needs_background": "light"
          }
        }
      ]
    }
  ]
}
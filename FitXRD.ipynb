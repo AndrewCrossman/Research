{
  "nbformat": 4,
  "nbformat_minor": 0,
  "metadata": {
    "colab": {
      "name": "FitXRD.ipynb",
      "provenance": [],
      "authorship_tag": "ABX9TyMOiiTCdC+2hOW4h/I04M9+",
      "include_colab_link": true
    },
    "kernelspec": {
      "name": "python3",
      "display_name": "Python 3"
    },
    "language_info": {
      "name": "python"
    }
  },
  "cells": [
    {
      "cell_type": "markdown",
      "metadata": {
        "id": "view-in-github",
        "colab_type": "text"
      },
      "source": [
        "<a href=\"https://colab.research.google.com/github/AndrewCrossman/Research/blob/main/FitXRD.ipynb\" target=\"_parent\"><img src=\"https://colab.research.google.com/assets/colab-badge.svg\" alt=\"Open In Colab\"/></a>"
      ]
    },
    {
      "cell_type": "code",
      "execution_count": 17,
      "metadata": {
        "colab": {
          "base_uri": "https://localhost:8080/"
        },
        "id": "cPNwF-BHc98P",
        "outputId": "ebfd55c9-e3f4-4301-f9cf-33b40918786b"
      },
      "outputs": [
        {
          "output_type": "stream",
          "name": "stdout",
          "text": [
            "Populating the interactive namespace from numpy and matplotlib\n"
          ]
        },
        {
          "output_type": "stream",
          "name": "stderr",
          "text": [
            "/usr/local/lib/python3.7/dist-packages/IPython/core/magics/pylab.py:161: UserWarning: pylab import has clobbered these variables: ['plt']\n",
            "`%matplotlib` prevents importing * from pylab and numpy\n",
            "  \"\\n`%matplotlib` prevents importing * from pylab and numpy\"\n"
          ]
        }
      ],
      "source": [
        "import numpy as np\n",
        "import pandas as pd\n",
        "import scipy as sp\n",
        "from scipy import optimize\n",
        "from google.colab import files\n",
        "import matplotlib.pylab as plt\n",
        "%pylab inline"
      ]
    },
    {
      "cell_type": "markdown",
      "source": [
        "## Helper Functions and Values"
      ],
      "metadata": {
        "id": "KZLdUPghdIDN"
      }
    },
    {
      "cell_type": "code",
      "source": [
        "def _1gaussian(x, a1,c1,s1):\n",
        "    return a1*np.exp((-1.0/2.0)*(((x-c1)/s1)**2))\n",
        "\n",
        "def _2gaussian(x, a1,c1,s1, a2,c2,s2):\n",
        "  return _1gaussian(x,a1,c1,s1) + _1gaussian(x,a2,c2,s2)\n",
        "\n",
        "def _5gaussian(x, a1,c1,s1, a2,c2,s2, a3,c3,s3, a4,c4,s4, a5,c5,s5):\n",
        "  return _1gaussian(x,a1,c1,s1) + _1gaussian(x,a2,c2,s2) + _1gaussian(x,a3,c3,s3) + _1gaussian(x,a4,c4,s4) + _1gaussian(x,a5,c5,s5)\n",
        "\n",
        "def _8gaussian(x, a1,c1,s1, a2,c2,s2, a3,c3,s3, a4,c4,s4, a5,c5,s5, a6,c6,s6, a7,c7,s7, a8,c8,s8):\n",
        "  return _1gaussian(x,a1,c1,s1) + _1gaussian(x,a2,c2,s2) + _1gaussian(x,a3,c3,s3) + _1gaussian(x,a4,c4,s4) + _1gaussian(x,a5,c5,s5) + _1gaussian(x,a6,c6,s6) + _1gaussian(x,a7,c7,s7) + _1gaussian(x,a8,c8,s8)\n",
        "\n",
        "def findLatticeParameter(v, h,k,l, theta):\n",
        "  return v*np.sqrt(h*h + k*k + l*l) / (2*np.sin(theta/2*np.pi/180))\n",
        "\n",
        "FCC_Peaks = [[0,1,1], [2,0,0], [2,2,0], [3,1,1], [2,2,2]]"
      ],
      "metadata": {
        "id": "VhgzeYeYdHvB"
      },
      "execution_count": 160,
      "outputs": []
    },
    {
      "cell_type": "markdown",
      "source": [
        "## Extract Data and Name Variables"
      ],
      "metadata": {
        "id": "ZKr6pr_YfDhy"
      }
    },
    {
      "cell_type": "code",
      "source": [
        "file = \"https://raw.githubusercontent.com/AndrewCrossman/Research/main/Tests/MC_Sphere5050_AuPd_onAu_r25_5000Cycles/5000.xrd\"\n",
        "plotTitle = r'Relaxed AuPd Alloy XRD Gaussian Fits'\n",
        "savename = 'RelaxedAuPdAlloyXRDFit.png'\n",
        "data = pd.read_csv(file,header=None,delimiter=' ',skiprows=1)\n",
        "theta2 = data.iloc[:,3]           # two theta values\n",
        "intensity = data.iloc[:,11]        # intensity vales"
      ],
      "metadata": {
        "id": "P9xggU71fHpf"
      },
      "execution_count": 259,
      "outputs": []
    },
    {
      "cell_type": "code",
      "source": [
        "data"
      ],
      "metadata": {
        "colab": {
          "base_uri": "https://localhost:8080/",
          "height": 424
        },
        "id": "_2MJ4uQnAu3s",
        "outputId": "33211ab2-1c1a-4010-fa83-7c65956efab0"
      },
      "execution_count": 260,
      "outputs": [
        {
          "output_type": "execute_result",
          "data": {
            "text/plain": [
              "      0   1   2           3   4   5   6   7   8   9   10          11  12  13  \\\n",
              "0    NaN NaN NaN   30.010355 NaN NaN NaN NaN NaN NaN NaN  450.880793 NaN NaN   \n",
              "1    NaN NaN NaN   30.020709 NaN NaN NaN NaN NaN NaN NaN  451.195464 NaN NaN   \n",
              "2    NaN NaN NaN   30.031064 NaN NaN NaN NaN NaN NaN NaN  451.557780 NaN NaN   \n",
              "3    NaN NaN NaN   30.041419 NaN NaN NaN NaN NaN NaN NaN  451.885203 NaN NaN   \n",
              "4    NaN NaN NaN   30.051774 NaN NaN NaN NaN NaN NaN NaN  452.157973 NaN NaN   \n",
              "...   ..  ..  ..         ...  ..  ..  ..  ..  ..  ..  ..         ...  ..  ..   \n",
              "8686 NaN NaN NaN  119.951303 NaN NaN NaN NaN NaN NaN NaN  496.385148 NaN NaN   \n",
              "8687 NaN NaN NaN  119.961657 NaN NaN NaN NaN NaN NaN NaN  494.467202 NaN NaN   \n",
              "8688 NaN NaN NaN  119.972012 NaN NaN NaN NaN NaN NaN NaN  492.572791 NaN NaN   \n",
              "8689 NaN NaN NaN  119.982367 NaN NaN NaN NaN NaN NaN NaN  490.703915 NaN NaN   \n",
              "8690 NaN NaN NaN  119.992721 NaN NaN NaN NaN NaN NaN NaN  488.857463 NaN NaN   \n",
              "\n",
              "      14  15  16  \n",
              "0    NaN NaN NaN  \n",
              "1    NaN NaN NaN  \n",
              "2    NaN NaN NaN  \n",
              "3    NaN NaN NaN  \n",
              "4    NaN NaN NaN  \n",
              "...   ..  ..  ..  \n",
              "8686 NaN NaN NaN  \n",
              "8687 NaN NaN NaN  \n",
              "8688 NaN NaN NaN  \n",
              "8689 NaN NaN NaN  \n",
              "8690 NaN NaN NaN  \n",
              "\n",
              "[8691 rows x 17 columns]"
            ],
            "text/html": [
              "\n",
              "  <div id=\"df-ecc015d6-50ad-49c0-963f-4ad33dcfd355\">\n",
              "    <div class=\"colab-df-container\">\n",
              "      <div>\n",
              "<style scoped>\n",
              "    .dataframe tbody tr th:only-of-type {\n",
              "        vertical-align: middle;\n",
              "    }\n",
              "\n",
              "    .dataframe tbody tr th {\n",
              "        vertical-align: top;\n",
              "    }\n",
              "\n",
              "    .dataframe thead th {\n",
              "        text-align: right;\n",
              "    }\n",
              "</style>\n",
              "<table border=\"1\" class=\"dataframe\">\n",
              "  <thead>\n",
              "    <tr style=\"text-align: right;\">\n",
              "      <th></th>\n",
              "      <th>0</th>\n",
              "      <th>1</th>\n",
              "      <th>2</th>\n",
              "      <th>3</th>\n",
              "      <th>4</th>\n",
              "      <th>5</th>\n",
              "      <th>6</th>\n",
              "      <th>7</th>\n",
              "      <th>8</th>\n",
              "      <th>9</th>\n",
              "      <th>10</th>\n",
              "      <th>11</th>\n",
              "      <th>12</th>\n",
              "      <th>13</th>\n",
              "      <th>14</th>\n",
              "      <th>15</th>\n",
              "      <th>16</th>\n",
              "    </tr>\n",
              "  </thead>\n",
              "  <tbody>\n",
              "    <tr>\n",
              "      <th>0</th>\n",
              "      <td>NaN</td>\n",
              "      <td>NaN</td>\n",
              "      <td>NaN</td>\n",
              "      <td>30.010355</td>\n",
              "      <td>NaN</td>\n",
              "      <td>NaN</td>\n",
              "      <td>NaN</td>\n",
              "      <td>NaN</td>\n",
              "      <td>NaN</td>\n",
              "      <td>NaN</td>\n",
              "      <td>NaN</td>\n",
              "      <td>450.880793</td>\n",
              "      <td>NaN</td>\n",
              "      <td>NaN</td>\n",
              "      <td>NaN</td>\n",
              "      <td>NaN</td>\n",
              "      <td>NaN</td>\n",
              "    </tr>\n",
              "    <tr>\n",
              "      <th>1</th>\n",
              "      <td>NaN</td>\n",
              "      <td>NaN</td>\n",
              "      <td>NaN</td>\n",
              "      <td>30.020709</td>\n",
              "      <td>NaN</td>\n",
              "      <td>NaN</td>\n",
              "      <td>NaN</td>\n",
              "      <td>NaN</td>\n",
              "      <td>NaN</td>\n",
              "      <td>NaN</td>\n",
              "      <td>NaN</td>\n",
              "      <td>451.195464</td>\n",
              "      <td>NaN</td>\n",
              "      <td>NaN</td>\n",
              "      <td>NaN</td>\n",
              "      <td>NaN</td>\n",
              "      <td>NaN</td>\n",
              "    </tr>\n",
              "    <tr>\n",
              "      <th>2</th>\n",
              "      <td>NaN</td>\n",
              "      <td>NaN</td>\n",
              "      <td>NaN</td>\n",
              "      <td>30.031064</td>\n",
              "      <td>NaN</td>\n",
              "      <td>NaN</td>\n",
              "      <td>NaN</td>\n",
              "      <td>NaN</td>\n",
              "      <td>NaN</td>\n",
              "      <td>NaN</td>\n",
              "      <td>NaN</td>\n",
              "      <td>451.557780</td>\n",
              "      <td>NaN</td>\n",
              "      <td>NaN</td>\n",
              "      <td>NaN</td>\n",
              "      <td>NaN</td>\n",
              "      <td>NaN</td>\n",
              "    </tr>\n",
              "    <tr>\n",
              "      <th>3</th>\n",
              "      <td>NaN</td>\n",
              "      <td>NaN</td>\n",
              "      <td>NaN</td>\n",
              "      <td>30.041419</td>\n",
              "      <td>NaN</td>\n",
              "      <td>NaN</td>\n",
              "      <td>NaN</td>\n",
              "      <td>NaN</td>\n",
              "      <td>NaN</td>\n",
              "      <td>NaN</td>\n",
              "      <td>NaN</td>\n",
              "      <td>451.885203</td>\n",
              "      <td>NaN</td>\n",
              "      <td>NaN</td>\n",
              "      <td>NaN</td>\n",
              "      <td>NaN</td>\n",
              "      <td>NaN</td>\n",
              "    </tr>\n",
              "    <tr>\n",
              "      <th>4</th>\n",
              "      <td>NaN</td>\n",
              "      <td>NaN</td>\n",
              "      <td>NaN</td>\n",
              "      <td>30.051774</td>\n",
              "      <td>NaN</td>\n",
              "      <td>NaN</td>\n",
              "      <td>NaN</td>\n",
              "      <td>NaN</td>\n",
              "      <td>NaN</td>\n",
              "      <td>NaN</td>\n",
              "      <td>NaN</td>\n",
              "      <td>452.157973</td>\n",
              "      <td>NaN</td>\n",
              "      <td>NaN</td>\n",
              "      <td>NaN</td>\n",
              "      <td>NaN</td>\n",
              "      <td>NaN</td>\n",
              "    </tr>\n",
              "    <tr>\n",
              "      <th>...</th>\n",
              "      <td>...</td>\n",
              "      <td>...</td>\n",
              "      <td>...</td>\n",
              "      <td>...</td>\n",
              "      <td>...</td>\n",
              "      <td>...</td>\n",
              "      <td>...</td>\n",
              "      <td>...</td>\n",
              "      <td>...</td>\n",
              "      <td>...</td>\n",
              "      <td>...</td>\n",
              "      <td>...</td>\n",
              "      <td>...</td>\n",
              "      <td>...</td>\n",
              "      <td>...</td>\n",
              "      <td>...</td>\n",
              "      <td>...</td>\n",
              "    </tr>\n",
              "    <tr>\n",
              "      <th>8686</th>\n",
              "      <td>NaN</td>\n",
              "      <td>NaN</td>\n",
              "      <td>NaN</td>\n",
              "      <td>119.951303</td>\n",
              "      <td>NaN</td>\n",
              "      <td>NaN</td>\n",
              "      <td>NaN</td>\n",
              "      <td>NaN</td>\n",
              "      <td>NaN</td>\n",
              "      <td>NaN</td>\n",
              "      <td>NaN</td>\n",
              "      <td>496.385148</td>\n",
              "      <td>NaN</td>\n",
              "      <td>NaN</td>\n",
              "      <td>NaN</td>\n",
              "      <td>NaN</td>\n",
              "      <td>NaN</td>\n",
              "    </tr>\n",
              "    <tr>\n",
              "      <th>8687</th>\n",
              "      <td>NaN</td>\n",
              "      <td>NaN</td>\n",
              "      <td>NaN</td>\n",
              "      <td>119.961657</td>\n",
              "      <td>NaN</td>\n",
              "      <td>NaN</td>\n",
              "      <td>NaN</td>\n",
              "      <td>NaN</td>\n",
              "      <td>NaN</td>\n",
              "      <td>NaN</td>\n",
              "      <td>NaN</td>\n",
              "      <td>494.467202</td>\n",
              "      <td>NaN</td>\n",
              "      <td>NaN</td>\n",
              "      <td>NaN</td>\n",
              "      <td>NaN</td>\n",
              "      <td>NaN</td>\n",
              "    </tr>\n",
              "    <tr>\n",
              "      <th>8688</th>\n",
              "      <td>NaN</td>\n",
              "      <td>NaN</td>\n",
              "      <td>NaN</td>\n",
              "      <td>119.972012</td>\n",
              "      <td>NaN</td>\n",
              "      <td>NaN</td>\n",
              "      <td>NaN</td>\n",
              "      <td>NaN</td>\n",
              "      <td>NaN</td>\n",
              "      <td>NaN</td>\n",
              "      <td>NaN</td>\n",
              "      <td>492.572791</td>\n",
              "      <td>NaN</td>\n",
              "      <td>NaN</td>\n",
              "      <td>NaN</td>\n",
              "      <td>NaN</td>\n",
              "      <td>NaN</td>\n",
              "    </tr>\n",
              "    <tr>\n",
              "      <th>8689</th>\n",
              "      <td>NaN</td>\n",
              "      <td>NaN</td>\n",
              "      <td>NaN</td>\n",
              "      <td>119.982367</td>\n",
              "      <td>NaN</td>\n",
              "      <td>NaN</td>\n",
              "      <td>NaN</td>\n",
              "      <td>NaN</td>\n",
              "      <td>NaN</td>\n",
              "      <td>NaN</td>\n",
              "      <td>NaN</td>\n",
              "      <td>490.703915</td>\n",
              "      <td>NaN</td>\n",
              "      <td>NaN</td>\n",
              "      <td>NaN</td>\n",
              "      <td>NaN</td>\n",
              "      <td>NaN</td>\n",
              "    </tr>\n",
              "    <tr>\n",
              "      <th>8690</th>\n",
              "      <td>NaN</td>\n",
              "      <td>NaN</td>\n",
              "      <td>NaN</td>\n",
              "      <td>119.992721</td>\n",
              "      <td>NaN</td>\n",
              "      <td>NaN</td>\n",
              "      <td>NaN</td>\n",
              "      <td>NaN</td>\n",
              "      <td>NaN</td>\n",
              "      <td>NaN</td>\n",
              "      <td>NaN</td>\n",
              "      <td>488.857463</td>\n",
              "      <td>NaN</td>\n",
              "      <td>NaN</td>\n",
              "      <td>NaN</td>\n",
              "      <td>NaN</td>\n",
              "      <td>NaN</td>\n",
              "    </tr>\n",
              "  </tbody>\n",
              "</table>\n",
              "<p>8691 rows × 17 columns</p>\n",
              "</div>\n",
              "      <button class=\"colab-df-convert\" onclick=\"convertToInteractive('df-ecc015d6-50ad-49c0-963f-4ad33dcfd355')\"\n",
              "              title=\"Convert this dataframe to an interactive table.\"\n",
              "              style=\"display:none;\">\n",
              "        \n",
              "  <svg xmlns=\"http://www.w3.org/2000/svg\" height=\"24px\"viewBox=\"0 0 24 24\"\n",
              "       width=\"24px\">\n",
              "    <path d=\"M0 0h24v24H0V0z\" fill=\"none\"/>\n",
              "    <path d=\"M18.56 5.44l.94 2.06.94-2.06 2.06-.94-2.06-.94-.94-2.06-.94 2.06-2.06.94zm-11 1L8.5 8.5l.94-2.06 2.06-.94-2.06-.94L8.5 2.5l-.94 2.06-2.06.94zm10 10l.94 2.06.94-2.06 2.06-.94-2.06-.94-.94-2.06-.94 2.06-2.06.94z\"/><path d=\"M17.41 7.96l-1.37-1.37c-.4-.4-.92-.59-1.43-.59-.52 0-1.04.2-1.43.59L10.3 9.45l-7.72 7.72c-.78.78-.78 2.05 0 2.83L4 21.41c.39.39.9.59 1.41.59.51 0 1.02-.2 1.41-.59l7.78-7.78 2.81-2.81c.8-.78.8-2.07 0-2.86zM5.41 20L4 18.59l7.72-7.72 1.47 1.35L5.41 20z\"/>\n",
              "  </svg>\n",
              "      </button>\n",
              "      \n",
              "  <style>\n",
              "    .colab-df-container {\n",
              "      display:flex;\n",
              "      flex-wrap:wrap;\n",
              "      gap: 12px;\n",
              "    }\n",
              "\n",
              "    .colab-df-convert {\n",
              "      background-color: #E8F0FE;\n",
              "      border: none;\n",
              "      border-radius: 50%;\n",
              "      cursor: pointer;\n",
              "      display: none;\n",
              "      fill: #1967D2;\n",
              "      height: 32px;\n",
              "      padding: 0 0 0 0;\n",
              "      width: 32px;\n",
              "    }\n",
              "\n",
              "    .colab-df-convert:hover {\n",
              "      background-color: #E2EBFA;\n",
              "      box-shadow: 0px 1px 2px rgba(60, 64, 67, 0.3), 0px 1px 3px 1px rgba(60, 64, 67, 0.15);\n",
              "      fill: #174EA6;\n",
              "    }\n",
              "\n",
              "    [theme=dark] .colab-df-convert {\n",
              "      background-color: #3B4455;\n",
              "      fill: #D2E3FC;\n",
              "    }\n",
              "\n",
              "    [theme=dark] .colab-df-convert:hover {\n",
              "      background-color: #434B5C;\n",
              "      box-shadow: 0px 1px 3px 1px rgba(0, 0, 0, 0.15);\n",
              "      filter: drop-shadow(0px 1px 2px rgba(0, 0, 0, 0.3));\n",
              "      fill: #FFFFFF;\n",
              "    }\n",
              "  </style>\n",
              "\n",
              "      <script>\n",
              "        const buttonEl =\n",
              "          document.querySelector('#df-ecc015d6-50ad-49c0-963f-4ad33dcfd355 button.colab-df-convert');\n",
              "        buttonEl.style.display =\n",
              "          google.colab.kernel.accessAllowed ? 'block' : 'none';\n",
              "\n",
              "        async function convertToInteractive(key) {\n",
              "          const element = document.querySelector('#df-ecc015d6-50ad-49c0-963f-4ad33dcfd355');\n",
              "          const dataTable =\n",
              "            await google.colab.kernel.invokeFunction('convertToInteractive',\n",
              "                                                     [key], {});\n",
              "          if (!dataTable) return;\n",
              "\n",
              "          const docLinkHtml = 'Like what you see? Visit the ' +\n",
              "            '<a target=\"_blank\" href=https://colab.research.google.com/notebooks/data_table.ipynb>data table notebook</a>'\n",
              "            + ' to learn more about interactive tables.';\n",
              "          element.innerHTML = '';\n",
              "          dataTable['output_type'] = 'display_data';\n",
              "          await google.colab.output.renderOutput(dataTable, element);\n",
              "          const docLink = document.createElement('div');\n",
              "          docLink.innerHTML = docLinkHtml;\n",
              "          element.appendChild(docLink);\n",
              "        }\n",
              "      </script>\n",
              "    </div>\n",
              "  </div>\n",
              "  "
            ]
          },
          "metadata": {},
          "execution_count": 260
        }
      ]
    },
    {
      "cell_type": "code",
      "source": [
        "# scale intenisty data to 1 and scale 2theta scan from 30-90 degrees\n",
        "intensity = intensity/intensity.max()\n",
        "intensity = intensity[:5796]\n",
        "theta2 = theta2[:5796]"
      ],
      "metadata": {
        "id": "vdXFsFJgioVI"
      },
      "execution_count": 261,
      "outputs": []
    },
    {
      "cell_type": "code",
      "source": [
        "fig, ax = plt.subplots(figsize=(9,6))\n",
        "ax.plot(theta2,intensity)\n",
        "ax.grid()"
      ],
      "metadata": {
        "colab": {
          "base_uri": "https://localhost:8080/",
          "height": 374
        },
        "id": "mciU6UGdjLKu",
        "outputId": "811b8faa-89e4-4ddd-e267-83fdad9c097e"
      },
      "execution_count": 262,
      "outputs": [
        {
          "output_type": "display_data",
          "data": {
            "text/plain": [
              "<Figure size 648x432 with 1 Axes>"
            ],
            "image/png": "[encoded data removed]"
          },
          "metadata": {
            "needs_background": "light"
          }
        }
      ]
    },
    {
      "cell_type": "markdown",
      "source": [
        "## Fit XRD using Gaussian Peaks"
      ],
      "metadata": {
        "id": "kH6P_F9Fe3KE"
      }
    },
    {
      "cell_type": "markdown",
      "source": [
        "Parameters for the Gaussian Peaks"
      ],
      "metadata": {
        "id": "d73ewa2Aj6S_"
      }
    },
    {
      "cell_type": "code",
      "source": [
        "# Initial Peak Guesses\n",
        "# amplitude, position/center, sigma\n",
        "a1, c1, s1 = 1, 39.5, 1.5\n",
        "a2, c2, s2 = .45, 46, 1.5\n",
        "a3, c3, s3 = .28, 67, 2\n",
        "a4, c4, s4 = .27, 80, 2\n",
        "a5, c5, s5 = .11, 85, 2\n",
        "''' \n",
        "a1, c1, s1 = 1, 40, 4\n",
        "a2, c2, s2 = .2, 49, 4\n",
        "a3, c3, s3 = .22, 65, 4\n",
        "a4, c4, s4 = .22, 74, 4\n",
        "a5, c5, s5 = .11, 89, 4\n",
        "'''\n",
        "a1, c1, s1 = 1, 39, 1.5\n",
        "a2, c2, s2 = .45, 44, 1.5\n",
        "a3, c3, s3 = .28, 65, 2\n",
        "a4, c4, s4 = .3, 79, 2.4\n",
        "a5, c5, s5 = .11, 81.5, 2.3"
      ],
      "metadata": {
        "id": "Ss7b8VfkkA_V"
      },
      "execution_count": 267,
      "outputs": []
    },
    {
      "cell_type": "code",
      "source": [
        "# Fit Data and Find Residuals\n",
        "popt_5gauss, pcov_5gauss = optimize.curve_fit(_5gaussian, theta2, intensity, p0=[a1,c1,s1, a2,c2,s2, a3,c3,s3, a4,c4,s4, a5,c5,s5])\n",
        "perr_5gauss = np.sqrt(np.diag(pcov_5gauss))\n",
        "pars_1, pars_2, pars_3, pars_4,pars_5  = popt_5gauss[0:3], popt_5gauss[3:6], popt_5gauss[6:9], popt_5gauss[9:12], popt_5gauss[12:15]\n",
        "gauss_peak_1 = _1gaussian(theta2, *pars_1)\n",
        "gauss_peak_2 = _1gaussian(theta2, *pars_2)\n",
        "gauss_peak_3 = _1gaussian(theta2, *pars_3)\n",
        "gauss_peak_4 = _1gaussian(theta2, *pars_4)\n",
        "gauss_peak_5 = _1gaussian(theta2, *pars_5)\n",
        "\n",
        "residual_5gauss = intensity- (_5gaussian(theta2, *popt_5gauss))"
      ],
      "metadata": {
        "colab": {
          "base_uri": "https://localhost:8080/"
        },
        "id": "KsgO6Hlotwuc",
        "outputId": "18c91230-91d0-4849-f8a8-d21b3a661a65"
      },
      "execution_count": 268,
      "outputs": [
        {
          "output_type": "stream",
          "name": "stderr",
          "text": [
            "/usr/local/lib/python3.7/dist-packages/scipy/optimize/minpack.py:834: OptimizeWarning: Covariance of the parameters could not be estimated\n",
            "  category=OptimizeWarning)\n"
          ]
        }
      ]
    },
    {
      "cell_type": "code",
      "source": [
        "# Find lattice parameter for each FCC Peak\n",
        "v = 1.5406\n",
        "peak_1 = np.append(pars_1,findLatticeParameter(v,1,1,1,pars_1[1]))\n",
        "peak_2 = np.append(pars_2,findLatticeParameter(v,2,0,0,pars_2[1]))\n",
        "peak_3 = np.append(pars_3,findLatticeParameter(v,2,2,0,pars_3[1]))\n",
        "peak_4 = np.append(pars_4,findLatticeParameter(v,3,1,1,pars_4[1]))\n",
        "peak_5 = np.append(pars_5,findLatticeParameter(v,2,2,2,pars_5[1]))\n",
        "print('Amplitude | Position | FWHM | LP')\n",
        "print(peak_1)\n",
        "print(peak_2)\n",
        "print(peak_3)\n",
        "print(peak_4)\n",
        "print(peak_5)"
      ],
      "metadata": {
        "colab": {
          "base_uri": "https://localhost:8080/"
        },
        "id": "eUxSQ19tzDvD",
        "outputId": "5490d068-a903-4403-a48d-33102feaf314"
      },
      "execution_count": 269,
      "outputs": [
        {
          "output_type": "stream",
          "name": "stdout",
          "text": [
            "Amplitude | Position | FWHM | LP\n",
            "[ 0.96443958 38.39899316  0.88613426  4.05706208]\n",
            "[ 0.44626721 44.61877956  0.88416072  4.05839943]\n",
            "[ 0.2393381  65.00203416  0.8644106   4.05486376]\n",
            "[ 16.20805901 910.73514712 248.03245789   2.56604803]\n",
            "[ -5.80344554 153.70303999   4.58457056   2.74023594]\n"
          ]
        }
      ]
    },
    {
      "cell_type": "code",
      "source": [
        "# Plot Data\n",
        "fig, ax = plt.subplots(figsize=(9,6))\n",
        "ax.scatter(theta2,intensity, color='black', label=r'Raw Data')\n",
        "ax.plot(theta2,residual_5gauss, color='cyan', label=r'Residuals')\n",
        "\n",
        "ax.plot(theta2,gauss_peak_1, color='crimson')\n",
        "ax.fill_between(theta2, gauss_peak_1.min(), gauss_peak_1, facecolor=\"crimson\", alpha=0.5)\n",
        "ax.plot(theta2,gauss_peak_2, color='darkblue')\n",
        "ax.fill_between(theta2, gauss_peak_2.min(), gauss_peak_2, facecolor=\"darkblue\", alpha=0.5)\n",
        "ax.plot(theta2,gauss_peak_3, color='red')\n",
        "ax.fill_between(theta2, gauss_peak_3.min(), gauss_peak_3, facecolor=\"red\", alpha=0.5)\n",
        "ax.plot(theta2,gauss_peak_4, color='blue')\n",
        "ax.fill_between(theta2, gauss_peak_4.min(), gauss_peak_4, facecolor=\"blue\", alpha=0.5)\n",
        "ax.plot(theta2,gauss_peak_5, color='salmon')\n",
        "ax.fill_between(theta2, gauss_peak_5.min(), gauss_peak_5, facecolor=\"salmon\", alpha=0.5)\n",
        "\n",
        "col_labels = ['Amplitude', 'Position', 'FWHM', 'LP']\n",
        "row_labels = ['(111)','(200)','(220)','(311)','(222)']\n",
        "table_vals = [np.around(peak_1, decimals=4),np.around(peak_2, decimals=4),np.around(peak_3, decimals=4),np.around(peak_4, decimals=4),np.around(peak_5, decimals=4)]\n",
        "# the rectangle is where I want to place the table\n",
        "ax.table(cellText=table_vals, colWidths = [0.1]*5, rowLabels=row_labels, colLabels=col_labels, loc='center right',fontsize=20)\n",
        "\n",
        "ax.set_title(plotTitle, fontsize=20, fontweight='bold')\n",
        "ax.set_xlabel(r'$2\\theta$', fontsize=20, fontweight='bold')\n",
        "ax.set_ylabel(r'Intensity [a.u.]', fontsize=20, fontweight='bold')\n",
        "ax.legend(loc='upper right',fontsize=18)\n",
        "ax.tick_params(axis='both',labelsize=14)\n",
        "ax.grid()\n",
        "plt.tight_layout()\n",
        "plt.savefig(savename)\n",
        "files.download(savename)"
      ],
      "metadata": {
        "colab": {
          "base_uri": "https://localhost:8080/",
          "height": 441
        },
        "id": "35QWqy00icGu",
        "outputId": "1fc1706a-c288-45e6-e5b9-65220392ebcd"
      },
      "execution_count": 270,
      "outputs": [
        {
          "output_type": "display_data",
          "data": {
            "text/plain": [
              "<IPython.core.display.Javascript object>"
            ],
            "application/javascript": [
              "\n",
              "    async function download(id, filename, size) {\n",
              "      if (!google.colab.kernel.accessAllowed) {\n",
              "        return;\n",
              "      }\n",
              "      const div = document.createElement('div');\n",
              "      const label = document.createElement('label');\n",
              "      label.textContent = `Downloading \"${filename}\": `;\n",
              "      div.appendChild(label);\n",
              "      const progress = document.createElement('progress');\n",
              "      progress.max = size;\n",
              "      div.appendChild(progress);\n",
              "      document.body.appendChild(div);\n",
              "\n",
              "      const buffers = [];\n",
              "      let downloaded = 0;\n",
              "\n",
              "      const channel = await google.colab.kernel.comms.open(id);\n",
              "      // Send a message to notify the kernel that we're ready.\n",
              "      channel.send({})\n",
              "\n",
              "      for await (const message of channel.messages) {\n",
              "        // Send a message to notify the kernel that we're ready.\n",
              "        channel.send({})\n",
              "        if (message.buffers) {\n",
              "          for (const buffer of message.buffers) {\n",
              "            buffers.push(buffer);\n",
              "            downloaded += buffer.byteLength;\n",
              "            progress.value = downloaded;\n",
              "          }\n",
              "        }\n",
              "      }\n",
              "      const blob = new Blob(buffers, {type: 'application/binary'});\n",
              "      const a = document.createElement('a');\n",
              "      a.href = window.URL.createObjectURL(blob);\n",
              "      a.download = filename;\n",
              "      div.appendChild(a);\n",
              "      a.click();\n",
              "      div.remove();\n",
              "    }\n",
              "  "
            ]
          },
          "metadata": {}
        },
        {
          "output_type": "display_data",
          "data": {
            "text/plain": [
              "<IPython.core.display.Javascript object>"
            ],
            "application/javascript": [
              "download(\"download_7f170cad-f78a-4c35-b51b-f573fe570c5c\", \"RelaxedAuPdAlloyXRDFit.png\", 53820)"
            ]
          },
          "metadata": {}
        },
        {
          "output_type": "display_data",
          "data": {
            "text/plain": [
              "<Figure size 648x432 with 1 Axes>"
            ],
            "image/png": "[encoded data removed]"
          },
          "metadata": {
            "needs_background": "light"
          }
        }
      ]
    }
  ]
}